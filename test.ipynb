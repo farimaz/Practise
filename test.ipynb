{
 "cells": [
  {
   "cell_type": "markdown",
   "metadata": {},
   "source": [
    "## make square of each number"
   ]
  },
  {
   "cell_type": "code",
   "execution_count": 1,
   "metadata": {},
   "outputs": [],
   "source": [
    "def fun1(num):\n",
    "    l=str(num)\n",
    "    for i in range(len(l)):\n",
    "        print(int(l[i])**2,end='')"
   ]
  },
  {
   "cell_type": "code",
   "execution_count": 2,
   "metadata": {},
   "outputs": [
    {
     "name": "stdout",
     "output_type": "stream",
     "text": [
      "14916"
     ]
    }
   ],
   "source": [
    "fun1(1234)"
   ]
  },
  {
   "cell_type": "markdown",
   "metadata": {},
   "source": [
    "## return number of letters"
   ]
  },
  {
   "cell_type": "code",
   "execution_count": 7,
   "metadata": {},
   "outputs": [],
   "source": [
    "def fun2(name):\n",
    "    a=list(name.lower())\n",
    "    dic={'a':1,'b':2,'c':3,'d':4,'e':5,'f':6,'g':7,'h':8,'i':9,'g':10,'k':11,'l':12,'m':13,'n':14,'o':15,'p':16,'q':17,'r':18,'s':19,'t':20,'u':21,'v':22,'w':23,'x':24,'y':25,'z':26}\n",
    "    for i in range(len(a)):\n",
    "        if a[i].isalpha():\n",
    "            print(dic[a[i]],end=' ')"
   ]
  },
  {
   "cell_type": "code",
   "execution_count": 8,
   "metadata": {},
   "outputs": [
    {
     "name": "stdout",
     "output_type": "stream",
     "text": [
      "8 5 12 12 15 23 15 18 12 4 "
     ]
    }
   ],
   "source": [
    "fun2('Hello World!')"
   ]
  },
  {
   "cell_type": "markdown",
   "metadata": {},
   "source": [
    "## returm the most repetetive days of a year"
   ]
  },
  {
   "cell_type": "code",
   "execution_count": 41,
   "metadata": {},
   "outputs": [],
   "source": [
    "import datetime\n",
    "def fun3(year):\n",
    "    leap=False\n",
    "    day=[]\n",
    "    try:\n",
    "        datetime.datetime(year,2,29)\n",
    "        leap=True\n",
    "    except:\n",
    "        pass\n",
    "    if leap:\n",
    "        day.append(datetime.datetime(year,1,1).strftime(\"%A\"))\n",
    "        day.append(datetime.datetime(year,1,2).strftime(\"%A\"))\n",
    "    else:\n",
    "        day.append(datetime.datetime(year,1,1).strftime(\"%A\"))\n",
    "    return day"
   ]
  },
  {
   "cell_type": "code",
   "execution_count": 45,
   "metadata": {},
   "outputs": [
    {
     "data": {
      "text/plain": [
       "['Monday', 'Tuesday']"
      ]
     },
     "execution_count": 45,
     "metadata": {},
     "output_type": "execute_result"
    }
   ],
   "source": [
    "fun3(2024)"
   ]
  },
  {
   "cell_type": "markdown",
   "metadata": {},
   "source": [
    "## return a list with n character that each one is a list of number one"
   ]
  },
  {
   "cell_type": "code",
   "execution_count": 16,
   "metadata": {},
   "outputs": [],
   "source": [
    "def fun4(n):\n",
    "    a=[]\n",
    "    for i in range(1,n+1):\n",
    "        b=[]\n",
    "        for j in range(i):\n",
    "            b.append(1)\n",
    "        a.append(b)\n",
    "    return a"
   ]
  },
  {
   "cell_type": "code",
   "execution_count": 17,
   "metadata": {},
   "outputs": [
    {
     "data": {
      "text/plain": [
       "[[1], [1, 1], [1, 1, 1], [1, 1, 1, 1]]"
      ]
     },
     "execution_count": 17,
     "metadata": {},
     "output_type": "execute_result"
    }
   ],
   "source": [
    "fun4(4)"
   ]
  },
  {
   "cell_type": "markdown",
   "metadata": {},
   "source": [
    "## return step of adding minimum numbers of a list untile reach to certain number"
   ]
  },
  {
   "cell_type": "code",
   "execution_count": 11,
   "metadata": {},
   "outputs": [],
   "source": [
    "def fun5(lis,num):\n",
    "    s=0\n",
    "    i=-1\n",
    "    while s<num:\n",
    "        s+=min(lis)\n",
    "        lis.remove(min(lis))\n",
    "        i+=1\n",
    "    return i"
   ]
  },
  {
   "cell_type": "code",
   "execution_count": 12,
   "metadata": {},
   "outputs": [
    {
     "data": {
      "text/plain": [
       "2"
      ]
     },
     "execution_count": 12,
     "metadata": {},
     "output_type": "execute_result"
    }
   ],
   "source": [
    "fun5([3,4,6,7],10)"
   ]
  },
  {
   "cell_type": "markdown",
   "metadata": {},
   "source": [
    "## random password"
   ]
  },
  {
   "cell_type": "code",
   "execution_count": 38,
   "metadata": {},
   "outputs": [],
   "source": [
    "import random\n",
    "from string import ascii_letters, punctuation, digits\n",
    "def fun6(num):\n",
    "    a=''.join(random.choice(ascii_letters+punctuation+digits) for i in range(num))\n",
    "    print('your password is: {}'.format(a))"
   ]
  },
  {
   "cell_type": "code",
   "execution_count": 43,
   "metadata": {},
   "outputs": [
    {
     "name": "stdout",
     "output_type": "stream",
     "text": [
      "your password is: /ply\n"
     ]
    }
   ],
   "source": [
    "fun6(4)"
   ]
  },
  {
   "cell_type": "markdown",
   "metadata": {},
   "source": [
    "## Split string"
   ]
  },
  {
   "cell_type": "code",
   "execution_count": 13,
   "metadata": {},
   "outputs": [],
   "source": [
    "def fun7(nouns):\n",
    "    a=[]\n",
    "    for i in range(len(nouns)): a.append(list(nouns[i]))\n",
    "    return a"
   ]
  },
  {
   "cell_type": "code",
   "execution_count": 14,
   "metadata": {},
   "outputs": [
    {
     "data": {
      "text/plain": [
       "[['a', 's', 'a', 'l'], ['n', 'i', 'm', 'a', 'a']]"
      ]
     },
     "execution_count": 14,
     "metadata": {},
     "output_type": "execute_result"
    }
   ],
   "source": [
    "fun7(['asal','nimaa'])"
   ]
  },
  {
   "cell_type": "markdown",
   "metadata": {},
   "source": [
    "## sum of even index"
   ]
  },
  {
   "cell_type": "code",
   "execution_count": 15,
   "metadata": {},
   "outputs": [],
   "source": [
    "def fun8(num):\n",
    "    s=0\n",
    "    for i in range(len(num)):\n",
    "        if i%2==0:\n",
    "            s+=num[i]\n",
    "    return s"
   ]
  },
  {
   "cell_type": "code",
   "execution_count": 16,
   "metadata": {},
   "outputs": [
    {
     "data": {
      "text/plain": [
       "13"
      ]
     },
     "execution_count": 16,
     "metadata": {},
     "output_type": "execute_result"
    }
   ],
   "source": [
    "fun8([1,3,4,6,8])"
   ]
  },
  {
   "cell_type": "markdown",
   "metadata": {},
   "source": [
    "## counting interences"
   ]
  },
  {
   "cell_type": "code",
   "execution_count": 17,
   "metadata": {},
   "outputs": [],
   "source": [
    "def fun9(*inter):\n",
    "    print(len(inter))"
   ]
  },
  {
   "cell_type": "code",
   "execution_count": 18,
   "metadata": {},
   "outputs": [
    {
     "name": "stdout",
     "output_type": "stream",
     "text": [
      "5\n"
     ]
    }
   ],
   "source": [
    "fun9(3,33,56,'asal',[1,2])"
   ]
  },
  {
   "cell_type": "markdown",
   "metadata": {},
   "source": [
    "## Split string in two length"
   ]
  },
  {
   "cell_type": "code",
   "execution_count": 19,
   "metadata": {},
   "outputs": [],
   "source": [
    "def fun10(a):\n",
    "    l=len(a)\n",
    "    d=[]\n",
    "    i=0\n",
    "    if l%2==0:\n",
    "        while i<l:\n",
    "            d.append(a[i:i+2])\n",
    "            i=i+2\n",
    "    else:\n",
    "        while i<l-1:\n",
    "            d.append(a[i:i+2])\n",
    "            i+=2\n",
    "        r=list(a)\n",
    "        d.append(r[-1]+'_')\n",
    "    return d"
   ]
  },
  {
   "cell_type": "code",
   "execution_count": 20,
   "metadata": {},
   "outputs": [
    {
     "data": {
      "text/plain": [
       "['ab', 'cd', 's_']"
      ]
     },
     "execution_count": 20,
     "metadata": {},
     "output_type": "execute_result"
    }
   ],
   "source": [
    "fun10('abcds')"
   ]
  },
  {
   "cell_type": "markdown",
   "metadata": {},
   "source": [
    "## Find different number"
   ]
  },
  {
   "cell_type": "code",
   "execution_count": 21,
   "metadata": {},
   "outputs": [],
   "source": [
    "def fun11(a):\n",
    "    r=[]\n",
    "    for i in range(len(a)):\n",
    "        b=a[i]%2\n",
    "        r.append(b)\n",
    "    for j in range(len(a)):\n",
    "        if r[0]!=r[1] and r[0]!=r[2]:\n",
    "            print(a[0])\n",
    "            break   \n",
    "        if r[0]!=r[j]:\n",
    "            print(a[j])"
   ]
  },
  {
   "cell_type": "code",
   "execution_count": 22,
   "metadata": {},
   "outputs": [
    {
     "name": "stdout",
     "output_type": "stream",
     "text": [
      "4\n"
     ]
    }
   ],
   "source": [
    "fun11([3,4,7,9])"
   ]
  },
  {
   "cell_type": "markdown",
   "metadata": {},
   "source": [
    " "
   ]
  },
  {
   "cell_type": "code",
   "execution_count": null,
   "metadata": {},
   "outputs": [],
   "source": []
  }
 ],
 "metadata": {
  "kernelspec": {
   "display_name": "Python 3",
   "language": "python",
   "name": "python3"
  },
  "language_info": {
   "codemirror_mode": {
    "name": "ipython",
    "version": 3
   },
   "file_extension": ".py",
   "mimetype": "text/x-python",
   "name": "python",
   "nbconvert_exporter": "python",
   "pygments_lexer": "ipython3",
   "version": "3.7.3"
  }
 },
 "nbformat": 4,
 "nbformat_minor": 2
}
